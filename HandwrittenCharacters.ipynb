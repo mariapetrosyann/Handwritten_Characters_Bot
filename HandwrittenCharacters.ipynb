{
  "cells": [
    {
      "cell_type": "code",
      "execution_count": null,
      "metadata": {
        "id": "BPhatulXAmDn"
      },
      "outputs": [],
      "source": [
        "from google.colab import files\n",
        "uploaded = files.upload()\n"
      ]
    },
    {
      "cell_type": "code",
      "execution_count": null,
      "metadata": {
        "id": "ZIYpzZxcpXe0"
      },
      "outputs": [],
      "source": [
        "import zipfile\n",
        "import os\n",
        "\n",
        "# Define the path to the uploaded ZIP file and the extraction directory\n",
        "zip_path = 'Validation.zip'\n",
        "extract_path = '/content/Validation'\n",
        "\n",
        "# Create the extraction directory if it doesn't exist\n",
        "if not os.path.exists(extract_path):\n",
        "    os.makedirs(extract_path)\n",
        "\n",
        "# Extract the ZIP file\n",
        "with zipfile.ZipFile(zip_path, 'r') as zip_ref:\n",
        "    zip_ref.extractall(extract_path)\n"
      ]
    },
    {
      "cell_type": "code",
      "execution_count": null,
      "metadata": {
        "id": "5ELwLaMVweij"
      },
      "outputs": [],
      "source": [
        "base_dir = '/content/Validation'\n",
        "\n",
        "# List subdirectories in the base directory\n",
        "for subdir, dirs, files in os.walk(base_dir):\n",
        "    if dirs:\n",
        "        print(f\"Subdirectories in {subdir}: {dirs}\")\n",
        "    if files:\n",
        "        print(f\"Files in {subdir}: {files}\")\n",
        "\n"
      ]
    },
    {
      "cell_type": "code",
      "execution_count": null,
      "metadata": {
        "colab": {
          "base_uri": "https://localhost:8080/"
        },
        "id": "Kh8g7K8Nrb8t",
        "outputId": "5fbf2582-3c7e-4d6d-db5f-ec893fffc4f0"
      },
      "outputs": [
        {
          "name": "stdout",
          "output_type": "stream",
          "text": [
            "Found 18032 images belonging to 39 classes.\n",
            "Found 4492 images belonging to 39 classes.\n",
            "Number of classes: 39\n",
            "Class labels: {'#': 0, '$': 1, '&': 2, '0': 3, '1': 4, '2': 5, '3': 6, '4': 7, '5': 8, '6': 9, '7': 10, '8': 11, '9': 12, '@': 13, 'A': 14, 'B': 15, 'C': 16, 'D': 17, 'E': 18, 'F': 19, 'G': 20, 'H': 21, 'I': 22, 'J': 23, 'K': 24, 'L': 25, 'M': 26, 'N': 27, 'P': 28, 'Q': 29, 'R': 30, 'S': 31, 'T': 32, 'U': 33, 'V': 34, 'W': 35, 'X': 36, 'Y': 37, 'Z': 38}\n"
          ]
        }
      ],
      "source": [
        "import tensorflow as tf\n",
        "from tensorflow.keras.preprocessing.image import ImageDataGenerator\n",
        "\n",
        "# Correct directory structure\n",
        "train_dir = '/content/Validation/Validation'  # Adjust if necessary\n",
        "\n",
        "datagen = ImageDataGenerator(\n",
        "    rescale=1./255,            # Normalize pixel values to [0, 1]\n",
        "    validation_split=0.2       # Split data into training and validation sets\n",
        ")\n",
        "\n",
        "# Reload data\n",
        "train_data = datagen.flow_from_directory(\n",
        "    train_dir,\n",
        "    target_size=(150, 150),\n",
        "    batch_size=32,\n",
        "    class_mode='categorical',\n",
        "    subset='training'\n",
        ")\n",
        "\n",
        "validation_data = datagen.flow_from_directory(\n",
        "    train_dir,\n",
        "    target_size=(150, 150),\n",
        "    batch_size=32,\n",
        "    class_mode='categorical',\n",
        "    subset='validation'\n",
        ")\n",
        "\n",
        "# Check number of classes and class labels\n",
        "print(f\"Number of classes: {len(train_data.class_indices)}\")\n",
        "print(f\"Class labels: {train_data.class_indices}\")\n"
      ]
    },
    {
      "cell_type": "code",
      "execution_count": null,
      "metadata": {
        "colab": {
          "base_uri": "https://localhost:8080/"
        },
        "id": "T8Pyc7setU1Q",
        "outputId": "f60cc186-4ef1-41bd-cadb-1430e877bc35"
      },
      "outputs": [
        {
          "name": "stdout",
          "output_type": "stream",
          "text": [
            "Num GPUs Available:  1\n"
          ]
        }
      ],
      "source": [
        "import tensorflow as tf\n",
        "\n",
        "# Check if GPU is available\n",
        "print(\"Num GPUs Available: \", len(tf.config.list_physical_devices('GPU')))\n"
      ]
    },
    {
      "cell_type": "code",
      "execution_count": null,
      "metadata": {
        "id": "mLmW0zyfxljg"
      },
      "outputs": [],
      "source": [
        "from tensorflow.python.client import device_lib\n",
        "print(device_lib.list_local_devices())\n"
      ]
    },
    {
      "cell_type": "code",
      "execution_count": null,
      "metadata": {
        "colab": {
          "base_uri": "https://localhost:8080/"
        },
        "id": "qJEhGAHgrdMt",
        "outputId": "c32995b9-c900-46bb-93fd-3e156d03cda6"
      },
      "outputs": [
        {
          "name": "stderr",
          "output_type": "stream",
          "text": [
            "/usr/local/lib/python3.10/dist-packages/keras/src/layers/convolutional/base_conv.py:107: UserWarning: Do not pass an `input_shape`/`input_dim` argument to a layer. When using Sequential models, prefer using an `Input(shape)` object as the first layer in the model instead.\n",
            "  super().__init__(activity_regularizer=activity_regularizer, **kwargs)\n"
          ]
        },
        {
          "name": "stdout",
          "output_type": "stream",
          "text": [
            "Epoch 1/10\n"
          ]
        },
        {
          "name": "stderr",
          "output_type": "stream",
          "text": [
            "/usr/local/lib/python3.10/dist-packages/keras/src/trainers/data_adapters/py_dataset_adapter.py:121: UserWarning: Your `PyDataset` class should call `super().__init__(**kwargs)` in its constructor. `**kwargs` can include `workers`, `use_multiprocessing`, `max_queue_size`. Do not pass these arguments to `fit()`, as they will be ignored.\n",
            "  self._warn_if_super_not_called()\n"
          ]
        },
        {
          "name": "stdout",
          "output_type": "stream",
          "text": [
            "\u001b[1m564/564\u001b[0m \u001b[32m━━━━━━━━━━━━━━━━━━━━\u001b[0m\u001b[37m\u001b[0m \u001b[1m31s\u001b[0m 43ms/step - accuracy: 0.7036 - loss: 1.1578 - val_accuracy: 0.8473 - val_loss: 0.4826\n",
            "Epoch 2/10\n",
            "\u001b[1m564/564\u001b[0m \u001b[32m━━━━━━━━━━━━━━━━━━━━\u001b[0m\u001b[37m\u001b[0m \u001b[1m18s\u001b[0m 31ms/step - accuracy: 0.9294 - loss: 0.2193 - val_accuracy: 0.8691 - val_loss: 0.5011\n",
            "Epoch 3/10\n",
            "\u001b[1m564/564\u001b[0m \u001b[32m━━━━━━━━━━━━━━━━━━━━\u001b[0m\u001b[37m\u001b[0m \u001b[1m21s\u001b[0m 32ms/step - accuracy: 0.9558 - loss: 0.1336 - val_accuracy: 0.8368 - val_loss: 0.6556\n",
            "Epoch 4/10\n",
            "\u001b[1m564/564\u001b[0m \u001b[32m━━━━━━━━━━━━━━━━━━━━\u001b[0m\u001b[37m\u001b[0m \u001b[1m18s\u001b[0m 32ms/step - accuracy: 0.9698 - loss: 0.0847 - val_accuracy: 0.8649 - val_loss: 0.5831\n",
            "Epoch 5/10\n",
            "\u001b[1m564/564\u001b[0m \u001b[32m━━━━━━━━━━━━━━━━━━━━\u001b[0m\u001b[37m\u001b[0m \u001b[1m21s\u001b[0m 33ms/step - accuracy: 0.9727 - loss: 0.0779 - val_accuracy: 0.8526 - val_loss: 0.8458\n",
            "Epoch 6/10\n",
            "\u001b[1m564/564\u001b[0m \u001b[32m━━━━━━━━━━━━━━━━━━━━\u001b[0m\u001b[37m\u001b[0m \u001b[1m20s\u001b[0m 31ms/step - accuracy: 0.9774 - loss: 0.0646 - val_accuracy: 0.8709 - val_loss: 0.7619\n",
            "Epoch 7/10\n",
            "\u001b[1m564/564\u001b[0m \u001b[32m━━━━━━━━━━━━━━━━━━━━\u001b[0m\u001b[37m\u001b[0m \u001b[1m18s\u001b[0m 31ms/step - accuracy: 0.9809 - loss: 0.0498 - val_accuracy: 0.8393 - val_loss: 1.0636\n",
            "Epoch 8/10\n",
            "\u001b[1m564/564\u001b[0m \u001b[32m━━━━━━━━━━━━━━━━━━━━\u001b[0m\u001b[37m\u001b[0m \u001b[1m20s\u001b[0m 36ms/step - accuracy: 0.9844 - loss: 0.0435 - val_accuracy: 0.8484 - val_loss: 1.0419\n",
            "Epoch 9/10\n",
            "\u001b[1m564/564\u001b[0m \u001b[32m━━━━━━━━━━━━━━━━━━━━\u001b[0m\u001b[37m\u001b[0m \u001b[1m20s\u001b[0m 35ms/step - accuracy: 0.9871 - loss: 0.0377 - val_accuracy: 0.8609 - val_loss: 0.8986\n",
            "Epoch 10/10\n",
            "\u001b[1m564/564\u001b[0m \u001b[32m━━━━━━━━━━━━━━━━━━━━\u001b[0m\u001b[37m\u001b[0m \u001b[1m19s\u001b[0m 32ms/step - accuracy: 0.9865 - loss: 0.0380 - val_accuracy: 0.8695 - val_loss: 0.8972\n"
          ]
        }
      ],
      "source": [
        "from tensorflow.keras.models import Sequential\n",
        "from tensorflow.keras.layers import Conv2D, MaxPooling2D, Flatten, Dense\n",
        "\n",
        "# Define the CNN model\n",
        "with tf.device('/GPU:0'):\n",
        "    model = Sequential([\n",
        "        Conv2D(32, (3, 3), activation='relu', input_shape=(150, 150, 3)),\n",
        "        MaxPooling2D(pool_size=(2, 2)),\n",
        "        Conv2D(64, (3, 3), activation='relu'),\n",
        "        MaxPooling2D(pool_size=(2, 2)),\n",
        "        Conv2D(128, (3, 3), activation='relu'),\n",
        "        MaxPooling2D(pool_size=(2, 2)),\n",
        "        Flatten(),\n",
        "        Dense(128, activation='relu'),\n",
        "        Dense(39, activation='softmax')  # 39 classes\n",
        "    ])\n",
        "\n",
        "    # Compile the model\n",
        "    model.compile(\n",
        "        optimizer='adam',\n",
        "        loss='categorical_crossentropy',\n",
        "        metrics=['accuracy']\n",
        "    )\n",
        "\n",
        "# Train the model\n",
        "with tf.device('/GPU:0'):\n",
        "    history = model.fit(\n",
        "        train_data,\n",
        "        validation_data=validation_data,\n",
        "        epochs=10\n",
        "    )\n"
      ]
    },
    {
      "cell_type": "code",
      "execution_count": null,
      "metadata": {
        "colab": {
          "base_uri": "https://localhost:8080/",
          "height": 927
        },
        "id": "6mWfbwpQsrvi",
        "outputId": "40f746b8-599b-4b26-87d6-acd54434aaff"
      },
      "outputs": [
        {
          "data": {
            "image/png": "[encoded data removed]",
            "text/plain": [
              "<Figure size 640x480 with 1 Axes>"
            ]
          },
          "metadata": {},
          "output_type": "display_data"
        },
        {
          "data": {
            "image/png": "[encoded data removed]",
            "text/plain": [
              "<Figure size 640x480 with 1 Axes>"
            ]
          },
          "metadata": {},
          "output_type": "display_data"
        }
      ],
      "source": [
        "import matplotlib.pyplot as plt\n",
        "\n",
        "plt.plot(history.history['accuracy'])\n",
        "plt.plot(history.history['val_accuracy'])\n",
        "plt.title('Model accuracy')\n",
        "plt.xlabel('Epoch')\n",
        "plt.ylabel('Accuracy')\n",
        "plt.legend(['Train', 'Validation'])\n",
        "plt.show()\n",
        "\n",
        "plt.plot(history.history['loss'])\n",
        "plt.plot(history.history['val_loss'])\n",
        "plt.title('Model loss')\n",
        "plt.xlabel('Epoch')\n",
        "plt.ylabel('Loss')\n",
        "plt.legend(['Train', 'Validation'])\n",
        "plt.show()"
      ]
    },
    {
      "cell_type": "code",
      "execution_count": null,
      "metadata": {
        "id": "W9sVH88dzlRr"
      },
      "outputs": [],
      "source": [
        "pip install python-telegram-bot\n"
      ]
    },
    {
      "cell_type": "code",
      "execution_count": null,
      "metadata": {
        "colab": {
          "base_uri": "https://localhost:8080/"
        },
        "id": "jUU2AOMK5FH1",
        "outputId": "d3ac1f72-20ef-4279-8549-855fc04839c1"
      },
      "outputs": [
        {
          "name": "stdout",
          "output_type": "stream",
          "text": [
            "21.4\n"
          ]
        }
      ],
      "source": [
        "import telegram\n",
        "print(telegram.__version__)\n"
      ]
    },
    {
      "cell_type": "code",
      "execution_count": null,
      "metadata": {
        "id": "XQjejjOX5S7p"
      },
      "outputs": [],
      "source": [
        "from telegram.ext import filters\n"
      ]
    },
    {
      "cell_type": "code",
      "execution_count": null,
      "metadata": {
        "id": "JxJI3jYd8182"
      },
      "outputs": [],
      "source": [
        "!pip install nest_asyncio\n"
      ]
    },
    {
      "cell_type": "code",
      "execution_count": null,
      "metadata": {
        "id": "Dk7U6VqF85Ds"
      },
      "outputs": [],
      "source": [
        "import nest_asyncio\n",
        "nest_asyncio.apply()\n"
      ]
    },
    {
      "cell_type": "code",
      "execution_count": null,
      "metadata": {
        "id": "XNH8o2vn4wbU"
      },
      "outputs": [],
      "source": [
        "from telegram import Update\n",
        "from telegram.ext import Application, CommandHandler, MessageHandler, CallbackContext, filters\n",
        "import numpy as np\n",
        "from tensorflow.keras.preprocessing import image\n",
        "from tensorflow.keras.models import load_model"
      ]
    },
    {
      "cell_type": "code",
      "execution_count": null,
      "metadata": {
        "id": "TRqyFWdv9HMb"
      },
      "outputs": [],
      "source": [
        "nest_asyncio.apply()"
      ]
    },
    {
      "cell_type": "code",
      "execution_count": null,
      "metadata": {
        "id": "mrhu-_QPDQIH"
      },
      "outputs": [],
      "source": [
        "# Define path for the temporary image\n",
        "IMAGE_PATH = '/content/temp_image.jpg'\n"
      ]
    },
    {
      "cell_type": "code",
      "execution_count": null,
      "metadata": {
        "id": "AnEELOIM5lws"
      },
      "outputs": [],
      "source": [
        "# Load and preprocess the image\n",
        "def load_and_preprocess_image(img_path):\n",
        "    img = image.load_img(img_path, target_size=(150, 150))\n",
        "    img_array = image.img_to_array(img)\n",
        "    img_array = np.expand_dims(img_array, axis=0)\n",
        "    img_array /= 255.0\n",
        "    return img_array"
      ]
    },
    {
      "cell_type": "code",
      "execution_count": null,
      "metadata": {
        "id": "8NVdcVdf5ok-"
      },
      "outputs": [],
      "source": [
        "# Define command handler for /start\n",
        "async def start(update: Update, context: CallbackContext):\n",
        "    await update.message.reply_text('Send me a photo of handwritten text and I will recognize it.')\n"
      ]
    },
    {
      "cell_type": "code",
      "execution_count": null,
      "metadata": {
        "id": "qX2GlbxK5tHV"
      },
      "outputs": [],
      "source": [
        "# Define message handler for photo messages\n",
        "async def handle_photo(update: Update, context: CallbackContext):\n",
        "    # Download the photo\n",
        "    photo_file = await update.message.photo[-1].get_file()\n",
        "    await photo_file.download_to_drive(IMAGE_PATH)\n",
        "\n",
        "    # Load and preprocess the image\n",
        "    img_array = load_and_preprocess_image(IMAGE_PATH)\n",
        "\n",
        "    # Predict the class\n",
        "    predictions = model.predict(img_array)\n",
        "    predicted_class = np.argmax(predictions, axis=1)\n",
        "\n",
        "    # Map predicted class index to class label\n",
        "    class_labels = {v: k for k, v in train_data.class_indices.items()}\n",
        "    predicted_label = class_labels.get(predicted_class[0], \"Unknown\")\n",
        "\n",
        "    await update.message.reply_text(f\"Recognized Text: {predicted_label}\")\n"
      ]
    },
    {
      "cell_type": "code",
      "execution_count": null,
      "metadata": {
        "id": "Rq0K6d3t50Ca"
      },
      "outputs": [],
      "source": [
        "# Main function to start the bot\n",
        "async def main():\n",
        "    # Create the Application and pass it your bot's token\n",
        "    application = Application.builder().token(\"Replace_with_your_token\").build()  # Replace with your token\n",
        "\n",
        "    # Add handlers\n",
        "    application.add_handler(CommandHandler(\"start\", start))\n",
        "    application.add_handler(MessageHandler(filters.PHOTO, handle_photo))\n",
        "\n",
        "    # Start polling\n",
        "    await application.run_polling()\n"
      ]
    },
    {
      "cell_type": "code",
      "execution_count": null,
      "metadata": {
        "colab": {
          "background_save": true
        },
        "id": "m8ag0JA254Rj"
      },
      "outputs": [],
      "source": [
        "if __name__ == '__main__':\n",
        "    import asyncio\n",
        "    asyncio.run(main())\n"
      ]
    }
  ],
  "metadata": {
    "accelerator": "GPU",
    "colab": {
      "gpuType": "T4",
      "provenance": []
    },
    "kernelspec": {
      "display_name": "Python 3",
      "name": "python3"
    },
    "language_info": {
      "name": "python"
    }
  },
  "nbformat": 4,
  "nbformat_minor": 0
}